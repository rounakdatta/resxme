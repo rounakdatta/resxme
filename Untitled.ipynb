{
 "cells": [
  {
   "cell_type": "code",
   "execution_count": 1,
   "metadata": {
    "collapsed": false
   },
   "outputs": [],
   "source": [
    "import spacy \n",
    "from pdfminer.pdfinterp import PDFResourceManager, PDFPageInterpreter\n",
    "from pdfminer.pdfpage import PDFPage\n",
    "from pdfminer.converter import TextConverter\n",
    "from pdfminer.layout import LAParams\n",
    "from io import StringIO"
   ]
  },
  {
   "cell_type": "code",
   "execution_count": 2,
   "metadata": {
    "collapsed": true
   },
   "outputs": [],
   "source": [
    "def scrape_pdf(pdfname):\n",
    "\n",
    "    # initial essentials\n",
    "    rsrcmgr = PDFResourceManager()\n",
    "    sio = StringIO()\n",
    "    codec = 'utf-8'\n",
    "    laparams = LAParams()\n",
    "    device = TextConverter(rsrcmgr, sio, codec=codec, laparams=laparams)\n",
    "    interpreter = PDFPageInterpreter(rsrcmgr, device)\n",
    "\n",
    "    # extract text\n",
    "    f = open(pdfname, 'rb')\n",
    "    for page in PDFPage.get_pages(f):\n",
    "        interpreter.process_page(page)\n",
    "    f.close()\n",
    "\n",
    "    text = sio.getvalue()\n",
    "    device.close()\n",
    "    sio.close()\n",
    "\n",
    "    return text"
   ]
  },
  {
   "cell_type": "code",
   "execution_count": 68,
   "metadata": {
    "collapsed": false
   },
   "outputs": [
    {
     "name": "stdout",
     "output_type": "stream",
     "text": [
      "Aman Goel\n",
      "\n",
      "Education\n",
      "\n",
      "2013–2017 Bachelor of Technology (Honors), Indian Institute of Technology, Bombay, GPA – 9.3/10.0.\n",
      "\n",
      "Computer Science and Engineering\n",
      "Scholastic Achievements\n",
      "\n",
      "2016 AP grade (given to top 2%) in 6 courses, including all 4 mathematics courses\n",
      "2015 Team rank 27 among 300+ teams in ACM ICPC Amritapuri Regionals\n",
      "2014 Institute Academic Award for being in the top 10 out of over 800 students\n",
      "2013 Secured All India Rank 33 in JEE Advanced (previously IIT-JEE) among 0.15 million contesting\n",
      "\n",
      "candidates and emerged as the Uttar Pradesh State topper\n",
      "\n",
      "2013 Obtained 100 percentile in JEE Main (previously AIEEE) among 1.5 million candidates, with\n",
      "\n",
      "all India highest score of 115/120 in Chemistry\n",
      "\n",
      "2013 Certiﬁcate of Merit and Gold medal in Indian National Olympiad in Physics and Chemistry for\n",
      "\n",
      "being among the top 35 in the country\n",
      "\n",
      "2013 Among the top 8 of the country who were selected to represent India at the 14th Asian Physics\n",
      "\n",
      "Olympiad, 2013, Bogor, Indonesia\n",
      "Internship Experience\n",
      "Machine Learning Engineer Intern, Stealth mode Startup.\n",
      "(cid:123) Used keras library in Python to build deep neural networks, thereby increasing the accuracy the\n",
      "\n",
      "algorithm from 80% to 95%\n",
      "\n",
      "Nov 16 -\n",
      "Present\n",
      "\n",
      "Nov 16 -\n",
      "Present\n",
      "\n",
      "May 16 -\n",
      "Jul 16\n",
      "\n",
      "May 15 -\n",
      "Jul 15\n",
      "\n",
      "Dec 14 -\n",
      "Jan 15\n",
      "\n",
      "Operating\n",
      "Systems\n",
      "\n",
      "(cid:123) Redesigned the entire backend, including machine learning API and unit testing framework.\n",
      "Global Alpha Researcher, Trexquant Investment LP.\n",
      "(cid:123) Working on development of proﬁtable trading signals based on real-world data for medium-frequency\n",
      "\n",
      "equity trading and implementing the same using MATLAB interface\n",
      "(cid:123) Studying ﬁnance based research papers to ﬁgure out new alpha ideas.\n",
      "Software Engineering Intern, Rubrik Inc., Palo Alto, CA, USA.\n",
      "(cid:123) Investigated the stability and performance of CockroachDB as a replacement to Cassandra in existing\n",
      "\n",
      "Rubrik ﬁle system’s ﬁle metadata store\n",
      "\n",
      "(cid:123) Wrote C++ code to redesign the ﬁlesystem to use CockroachDB as the metadata store\n",
      "(cid:123) Wrote correctness tests and benchmarks in Python to compare CockroachDB with Cassandra\n",
      "(cid:123) Received a return oﬀer from Rubrik for outstanding performance during the internship.\n",
      "Research Intern, TU Braunschweig, Braunschweig, Germany.\n",
      "(cid:123) Studied the algorithms related to swarming robotics, an upcoming ﬁeld of robotics which involves\n",
      "\n",
      "coordination of simple robots to perform powerful tasks\n",
      "\n",
      "(cid:123) Studied Triangulation Problems, Tree Exploration Problem and Inverse Art Gallery Problem\n",
      "Research Intern, Indian Institute of Technology, Kanpur, India.\n",
      "(cid:123) Studied iterative algorithms for statistical curve ﬁtting and implemented in MATLAB\n",
      "(cid:123) Also studied the impact of noise distribution on the nature of the curve\n",
      "Projects\n",
      "Deduplicating File System using FUSE.\n",
      "(cid:123) Used FUSE to design and implement a deduplicating ﬁle system in Python\n",
      "(cid:123) Implemented block level deduplication by taking SHA256 hash of each data block\n",
      "(cid:123) Used a backend postgres database to reduce the required storage by a factor of about 64\n",
      "\n",
      "\f",
      "Operating\n",
      "Systems\n",
      "\n",
      "Deep\n",
      "Learning\n",
      "\n",
      "Deep\n",
      "Learning\n",
      "\n",
      "Machine\n",
      "Learning\n",
      "\n",
      "Artiﬁcial\n",
      "Intelligence\n",
      "\n",
      "Artiﬁcial\n",
      "Intelligence\n",
      "\n",
      "File Server with associated Shell based client.\n",
      "(cid:123) Used socket programming libraries of C to design a ﬁle server to handle concurrent clients\n",
      "(cid:123) Programmed a shell based client and implemented various other features like pipe, redirection and\n",
      "\n",
      "signal handling, foreground and background processes\n",
      "\n",
      "(cid:123) Studied web server overload in terms of latency and throughput measurements\n",
      "Convolutional Neural Network for Car Recognition.\n",
      "(cid:123) Used Tensorﬂow (Python) to implement a car recognition system using deep learning\n",
      "(cid:123) Implemented convolutional neural network to achieve over 90% accuracy on test data\n",
      "(cid:123) Implemented a keras (Python) model to compare performance with Tensorﬂow model\n",
      "Devanagari Script alphabet recognition system using Tensorﬂow.\n",
      "(cid:123) Used Tensorﬂow (Python) to build a deep network for Devanagari character recognition\n",
      "(cid:123) Investigated the impact of the width, depth, learning rate, regularization and hidden unit type on the\n",
      "\n",
      "accuracy of recognition system\n",
      "\n",
      "Smart Keyboard.\n",
      "(cid:123) Used techniques and algorithms of Natural Language Processing to develop a smart keyboard\n",
      "\n",
      "application in Python\n",
      "\n",
      "(cid:123) Implemented spelling correction and word prediction using sklearn and NLTK\n",
      "Simulation of Genetic Algorithm (Artiﬁcial Intelligence).\n",
      "(cid:123) Programmed an implementation of Genetic Algorithm in Java\n",
      "(cid:123) The program takes an image from the user as input and reconstructs the image using a ﬁxed number\n",
      "\n",
      "of circles and rectangles\n",
      "\n",
      "(cid:123) Implemented various aspects of the algorithm including mutation, crossover and elitism\n",
      "(cid:123) Ran the program for several images like abstract images, logo of various companies, animals, etc\n",
      "Planet Wars Bot.\n",
      "(cid:123) Programmed a smart heuristic (bot) in C++ to play the game of Planet Wars\n",
      "(cid:123) Implemented future prediction mechanism to tackle the opponent bot smartly\n",
      "(cid:123) Suggested the concept of a frontier mechanism to strengthen the defense of the bot\n",
      "\n",
      "Databases Banking Made Easy.\n",
      "\n",
      "(cid:123) Programmed the client and the server end of a banking application using Java Servlets\n",
      "(cid:123) The application connects to a remote postgres backed database server\n",
      "(cid:123) Worked on the security aspects of the application for the prevention of SQL injection and XSS attacks\n",
      "\n",
      "Databases External Merge Sort and Hash Join.\n",
      "\n",
      "(cid:123) Implemented external merge sort supporting generalized k way merge, and simulating merge sort for\n",
      "\n",
      "large ﬁles using C++\n",
      "\n",
      "(cid:123) Also implemented the hash join algorithm to join 2 large relations\n",
      "(cid:123) Analyzed performance statistics of the algorithms and worked on further improvements\n",
      "\n",
      "Compilers Compiler for a subset of C language.\n",
      "\n",
      "(cid:123) Created a compiler for C programming language to generate MIPS32 assembly code\n",
      "(cid:123) Coded from scratch, various features like lexical analysis, syntax tree creation, parsing and assembly\n",
      "\n",
      "level code generation\n",
      "\n",
      "(cid:123) Implemented structs, type checking, pointers and many other common features of C\n",
      "\n",
      "Web Dev Q/A platform for competitive exam preparation.\n",
      "\n",
      "(cid:123) Used Django (Python) backed server to build a Quora like web application\n",
      "(cid:123) Designed the database schema from scratch and used MySQL as backend database\n",
      "(cid:123) Used Rake Library in Python to automatically extract tags and topics from asked questions\n",
      "(cid:123) Implemented newsfeed, upvotes, downvotes, user proﬁle and follow features\n",
      "\n",
      "Web Dev Bodhitree Multimedia Textbook.\n",
      "\n",
      "(cid:123) Worked on the feature development of a large scale Django based multimedia textbook\n",
      "(cid:123) Designed a review mode feature that helps the user easily review the videos\n",
      "(cid:123) Programmed a notiﬁcations panel that displays the number of unwatched pending videos\n",
      "\n",
      "Web Dev Photo Gallery Web App in Django.\n",
      "\n",
      "(cid:123) Created a photo gallery web application in Django (Python)\n",
      "(cid:123) The application extracts the images of a certain hash tag from Twitter and displays them in the form\n",
      "\n",
      "of an image gallery\n",
      "\n",
      "(cid:123) Implemented user-authentication features (login, logout, register) from scratch\n",
      "\n",
      "\f",
      "Web Dev JEE Seat Allocation Web App in Django.\n",
      "\n",
      "(cid:123) Studied Gale-Shapley algorithm for ﬁnding a stable matching and implemented it in Java\n",
      "(cid:123) Used the implementation of the algorithm to solve a seat allocation based problem\n",
      "(cid:123) Developed an associated Django based web application to allow students to ﬁll their seat preferences\n",
      "\n",
      "for JEE counseling (a competitive exam in India)\n",
      "\n",
      "Android Location based Social Networking App.\n",
      "\n",
      "(cid:123) Programmed an android application for a location based social network, supporting features of\n",
      "\n",
      "multicast within a distance\n",
      "\n",
      "(cid:123) Added settings to alter multicast distance as well as feed interval\n",
      "(cid:123) Also added a message labeling feature for SOS messages\n",
      "\n",
      "Android Sunshine Weather App.\n",
      "\n",
      "and Map location intent\n",
      "\n",
      "Android My Timetable App.\n",
      "\n",
      "(cid:123) Used the Open Weather Map API to create a simple weather application in android studio as a part\n",
      "\n",
      "of Udacity’s Android development course\n",
      "\n",
      "(cid:123) Implemented features like ListView, Fragments, SQLite database, Content Providers, Share Intent\n",
      "\n",
      "(cid:123) Created a simple timetable management app in Android Studio.\n",
      "(cid:123) The application can store classes along with timings in an SQLite database and then retrieve daily\n",
      "\n",
      "classes and display them in a ListView\n",
      "\n",
      "Android Blog Android Application.\n",
      "\n",
      "(cid:123) Used the Blogger API to program an android application for blog using android studio\n",
      "(cid:123) Implemented refresh mechanism to fetch latest articles from the blog\n",
      "(cid:123) Implemented the share intent to share the link of blog\n",
      "Skills & Interests\n",
      "\n",
      "General Distributed Systems, Scalable Databases, Machine Learning\n",
      "\n",
      "Languages Python, C/C++, Java\n",
      "\n",
      "Development Web Development (Django), Android App Development\n",
      "Tools LATEX 2ε, Bash Scripting, MATLAB, GNU Octave, Prolog\n",
      "Others Cryptography, Computer Networks, Assembly\n",
      "\n",
      "Other Academic Achievements\n",
      "\n",
      "2015 Among the top 20 across India to be shortlisted for Cargill Global Scholarship 2015\n",
      "2013 Cleared National Standard Exams in Physics and Chemistry, being among the top 300 nationally\n",
      "2013 All India Rank 105 in KVPY among over 50,000 contesting candidates\n",
      "2013 CBSE Certiﬁcate of Merit in Physics for being among the top 0.1% in India\n",
      "2011 Conferred with the title of Amul VidyaShree for securing 97.4% in High School\n",
      "2011 All India Rank 42 in the Resonance Start Exam, All India Rank 27 and North India Zonal\n",
      "Rank 2 in FIITJEE FTRE and All India Rank 83 in FIITJEE NSTSE among thousands of\n",
      "candidates across the country\n",
      "Positions of Responsibility\n",
      "Department Academic Mentor.\n",
      "(cid:123) Among the 14 people to be chosen as Department Academic Mentor for CSE Department\n",
      "(cid:123) Responsible for guiding 10 sophomore students with their academics and curriculum\n",
      "Teaching Assistant.\n",
      "(cid:123) Selected 8 times and served 3 times as a TA for Computer Programming and Utilization, Electricity\n",
      "\n",
      "Jul 15 -\n",
      "April 16\n",
      "\n",
      "Jul 14 -\n",
      "Nov 15\n",
      "\n",
      "and Magnetism and Introduction to Calculus courses at IIT Bombay\n",
      "\n",
      "(cid:123) Responsible for guiding students with tutorial problems for better understanding of the course material\n",
      "Convener at Rubik’s Club.\n",
      "(cid:123) Served one full term as a Convener at Rubik’s Club at IIT Bombay\n",
      "(cid:123) Responsible for conducting workshops and events to teach speedcubing\n",
      "\n",
      "Jul 14 -\n",
      "Jul 15\n",
      "\n",
      "\f",
      "\n"
     ]
    }
   ],
   "source": [
    "nlp = spacy.load('en_core_web_sm')\n",
    "doc = scrape_pdf(\"resume1.pdf\")\n",
    "document = nlp(doc)\n",
    "print(document)"
   ]
  },
  {
   "cell_type": "code",
   "execution_count": 69,
   "metadata": {
    "collapsed": false
   },
   "outputs": [
    {
     "name": "stdout",
     "output_type": "stream",
     "text": [
      "PERCENT ['2%', 'over 90% ', '80% ', '97.4% ', '0.1% ']\n",
      "ORG ['Computer Networks', 'Java Servlets\\n', '\\n\\nDatabases External ', 'C/C++', 'GPA ', 'IIT', 'IIT Bombay\\n\\n', 'CBSE Certiﬁcate of Merit ', 'Prolog\\nOthers Cryptography', 'Intelligence\\n\\n', 'Shell ', 'Inverse Art Gallery Problem\\nResearch Intern', 'Indian National Olympiad ', 'Car Recognition', 'Machine Learning\\n\\nLanguages Python', 'Pradesh State ', 'Gold ', 'Uttar ', 'Java\\n', 'TA for Computer Programming and Utilization, Electricity', 'Bachelor of Technology (Honors', '\\n\\nCompilers Compiler ', '\\nProjects\\n', 'Content Providers', 'TU Braunschweig', 'High School\\n2011 ', 'Chemistry ', 'SOS ', 'Devanagari ', 'Social Networking App', 'Chemistry', 'Java\\n\\nDevelopment Web Development (Django', 'JEE ', 'GNU Octave', 'SQLite ', '\\n\\nSmart Keyboard', 'Computer Science and Engineering\\nScholastic Achievements\\n\\n', 'Rubrik Inc.', 'XSS ', 'Operating\\nSystems\\n\\nDeep\\nLearning\\n\\n', '\\n\\n', 'Trexquant Investment LP', 'All India Rank ', 'Department Academic Mentor for CSE Department\\n', 'Bogor, Indonesia\\nInternship Experience\\nMachine Learning ', 'KVPY ', 'Fragments', 'Magnetism and Introduction to Calculus ', 'Rubik’s Club', 'Institute Academic Award ', 'Used Django ', 'Skills & Interests', 'Rubik’s Club ', 'Tree Exploration Problem ', 'Genetic Algorithm ', 'NLTK\\nSimulation of Genetic Algorithm (Artiﬁcial Intelligence', 'IIT Bombay\\n', 'North India Zonal\\n', 'AP ', 'App ', 'ListView', 'ACM ', 'CockroachDB with Cassandra\\n', 'Android App Development\\n', '\\n\\nOperating\\nSystems\\n\\n', 'Deduplicating File System ', '\\nPositions of Responsibility\\nDepartment ', 'Indian Institute of Technology', 'Natural Language Processing ', '\\nConvolutional Neural Network ']\n",
      "EVENT ['Cleared National Standard Exams ', 'All India Rank 105 ', 'All India Rank 33 ']\n",
      "LANGUAGE ['C++ ']\n",
      "WORK_OF_ART ['\\nPlanet Wars Bot.\\n', 'Android My Timetable App', 'Planet Wars\\n']\n",
      "PERSON ['Amritapuri Regionals', 'JEE Main ', 'Engineer Intern', 'LATEX 2ε', 'Gale', 'CockroachDB ', '\\n\\nWeb Dev Photo Gallery ', 'MySQL ', 'Worked ', 'FIITJEE FTRE ', 'FIITJEE NSTSE ', 'Android Sunshine ', 'Academic Mentor', 'Quora ', 'Jul 14 -\\n', 'Dev ', 'Braunschweig', '\\n\\n', 'Bash Scripting', 'Ran ', 'Amul VidyaShree ', 'Startup', 'Easy', 'Coded ', 'cid:123', 'Dev Bodhitree ', 'Hash Join', 'Django ', 'Academic Achievements\\n\\n', 'JEE Advanced ', 'Cargill Global Scholarship ', '\\n\\nRubrik ', 'Rubrik ']\n",
      "CARDINAL ['6 ', '4 ', 'over 50,000 ', '14 ', '3 ', '2 ', '800 ', '15', '300 ', '83 ', '20 ', '1.5 million ', '115/120 ', 'thousands ', '42 ', '10 ', '27 ', 'about 64', '0.15 million ', '35 ', '8 ', '300']\n",
      "NORP ['Asian ']\n",
      "DATE ['May 16 -\\n', 'May 15 -\\n', 'daily', '2011 ', 'April 16', '16\\n\\n', '2013', '2015 ', '2016 ', '2013 ', 'Python\\n\\n']\n",
      "ORDINAL ['Jul ', '14th ']\n",
      "FAC ['Global Alpha Researcher', 'Obtained 100 ']\n",
      "LAW ['C++\\n\\n']\n",
      "GPE ['Android Studio', 'Germany', 'Convener ', 'India ', 'Django ', 'Palo Alto', 'Physics ', 'Tensorﬂow', 'Django', 'Tensorﬂow ', 'FUSE', '\\n', 'Twitter ', 'India', 'Kanpur', 'Cassandra ', 'Bombay', 'Android Location ', 'Olympiad', 'CA, USA']\n",
      "PRODUCT ['Certiﬁcate of Merit ', 'Devanagari Script ', 'MATLAB ', 'a ListView\\n\\nAndroid Blog Android Application']\n"
     ]
    }
   ],
   "source": [
    "labels = set([w.label_ for w in document.ents]) \n",
    "for label in labels: \n",
    "    entities = [(e.string) for e in document.ents if label==e.label_] \n",
    "    entities = list(set(entities)) \n",
    "    print (label,entities)"
   ]
  },
  {
   "cell_type": "code",
   "execution_count": 70,
   "metadata": {
    "collapsed": false
   },
   "outputs": [
    {
     "ename": "TypeError",
     "evalue": "'str' object is not callable",
     "output_type": "error",
     "traceback": [
      "\u001b[0;31m---------------------------------------------------------------------------\u001b[0m",
      "\u001b[0;31mTypeError\u001b[0m                                 Traceback (most recent call last)",
      "\u001b[0;32m<ipython-input-70-844b4dbef6bd>\u001b[0m in \u001b[0;36m<module>\u001b[0;34m()\u001b[0m\n\u001b[1;32m      1\u001b[0m \u001b[0mstr1\u001b[0m\u001b[1;33m=\u001b[0m\u001b[0mnlp\u001b[0m\u001b[1;33m(\u001b[0m\u001b[1;34m\"CGPA\"\u001b[0m\u001b[1;33m)\u001b[0m\u001b[1;33m\u001b[0m\u001b[0m\n\u001b[1;32m      2\u001b[0m \u001b[0mstr2\u001b[0m\u001b[1;33m=\u001b[0m\u001b[0mnlp\u001b[0m\u001b[1;33m(\u001b[0m\u001b[1;34m\"GPA\"\u001b[0m\u001b[1;33m)\u001b[0m\u001b[1;33m\u001b[0m\u001b[0m\n\u001b[0;32m----> 3\u001b[0;31m \u001b[0mprint\u001b[0m\u001b[1;33m(\u001b[0m\u001b[0mtoken\u001b[0m\u001b[1;33m.\u001b[0m\u001b[0mpos_\u001b[0m\u001b[1;33m(\u001b[0m\u001b[0mdocument\u001b[0m\u001b[1;33m[\u001b[0m\u001b[1;36m100\u001b[0m\u001b[1;33m]\u001b[0m\u001b[1;33m)\u001b[0m\u001b[1;33m)\u001b[0m\u001b[1;33m\u001b[0m\u001b[0m\n\u001b[0m",
      "\u001b[0;31mTypeError\u001b[0m: 'str' object is not callable"
     ]
    }
   ],
   "source": [
    "str1=nlp(\"CGPA\")\n",
    "str2=nlp(\"GPA\")\n",
    "print(token.pos_(document[100]))"
   ]
  },
  {
   "cell_type": "code",
   "execution_count": 71,
   "metadata": {
    "collapsed": false
   },
   "outputs": [
    {
     "name": "stdout",
     "output_type": "stream",
     "text": [
      "9.3/10.0\n"
     ]
    }
   ],
   "source": [
    "a=0\n",
    "for token in document:\n",
    "    if(str(token)==\"CGPA\" or str(token)==\"GPA\"):\n",
    "        if(document[a-1].like_num==True):\n",
    "            print(document[a-1])\n",
    "        elif(document[a-2].like_num==True):\n",
    "            print(document[a-2])\n",
    "        elif(document[a-3].like_num==True):\n",
    "            print(document[a-3])\n",
    "        elif(document[a+3].like_num==True):\n",
    "            print(document[a+3])\n",
    "        elif(document[a+2].like_num==True):\n",
    "            print(document[a+2])\n",
    "        elif(document[a+1].like_num==True):\n",
    "            print(document[a+1])\n",
    "        else:\n",
    "            print(document[a+2])\n",
    "        \n",
    "    a+=1"
   ]
  },
  {
   "cell_type": "code",
   "execution_count": 72,
   "metadata": {
    "collapsed": false
   },
   "outputs": [],
   "source": [
    "a=0\n",
    "for token in document:\n",
    "    if(str(token)==\"CGPA\" or str(token)==\"GPA\"):\n",
    "        if(token.like_num):\n",
    "            print(document[a+2])"
   ]
  },
  {
   "cell_type": "code",
   "execution_count": 73,
   "metadata": {
    "collapsed": false
   },
   "outputs": [
    {
     "name": "stdout",
     "output_type": "stream",
     "text": [
      "PROPN\n",
      "VERB\n",
      "VERB\n",
      "ADP\n",
      "VERB\n",
      "PROPN\n",
      "NOUN\n",
      "ADP\n",
      "SYM\n",
      "NUM\n",
      "NUM\n"
     ]
    }
   ],
   "source": [
    "d = nlp(u'Apple is looking at buying U.K. startup for $1 billion')\n",
    "\n",
    "for token in d:\n",
    "    print(token.pos_)"
   ]
  },
  {
   "cell_type": "code",
   "execution_count": 74,
   "metadata": {
    "collapsed": false
   },
   "outputs": [
    {
     "name": "stdout",
     "output_type": "stream",
     "text": [
      "Apple 0 5 ORG\n",
      "U.K. 27 31 GPE\n",
      "$1 billion 44 54 MONEY\n"
     ]
    }
   ],
   "source": [
    "d = nlp(u'Apple is looking at buying U.K. startup for $1 billion')\n",
    "\n",
    "for ent in d.ents:\n",
    "    print(ent.text, ent.start_char, ent.end_char, ent.label_)"
   ]
  },
  {
   "cell_type": "code",
   "execution_count": 86,
   "metadata": {
    "collapsed": false
   },
   "outputs": [
    {
     "data": {
      "text/plain": [
       "()"
      ]
     },
     "execution_count": 86,
     "metadata": {},
     "output_type": "execute_result"
    }
   ],
   "source": [
    "d.ents"
   ]
  },
  {
   "cell_type": "code",
   "execution_count": null,
   "metadata": {
    "collapsed": true
   },
   "outputs": [],
   "source": []
  }
 ],
 "metadata": {
  "kernelspec": {
   "display_name": "Python 3",
   "language": "python",
   "name": "python3"
  },
  "language_info": {
   "codemirror_mode": {
    "name": "ipython",
    "version": 3
   },
   "file_extension": ".py",
   "mimetype": "text/x-python",
   "name": "python",
   "nbconvert_exporter": "python",
   "pygments_lexer": "ipython3",
   "version": "3.6.0"
  }
 },
 "nbformat": 4,
 "nbformat_minor": 2
}
